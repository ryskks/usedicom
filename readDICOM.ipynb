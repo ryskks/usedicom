{
  "cells": [
    {
      "cell_type": "markdown",
      "metadata": {
        "id": "view-in-github",
        "colab_type": "text"
      },
      "source": [
        "<a href=\"https://colab.research.google.com/github/ryskks/usedicom/blob/main/readDICOM.ipynb\" target=\"_parent\"><img src=\"https://colab.research.google.com/assets/colab-badge.svg\" alt=\"Open In Colab\"/></a>"
      ]
    },
    {
      "cell_type": "markdown",
      "id": "66fa55ce",
      "metadata": {
        "id": "66fa55ce"
      },
      "source": [
        "# Python で DICOM 画像を読み込む"
      ]
    },
    {
      "cell_type": "code",
      "source": [
        "from google.colab import drive\n",
        "drive.mount('/content/drive')"
      ],
      "metadata": {
        "id": "Q-tC5m7wrNiz"
      },
      "id": "Q-tC5m7wrNiz",
      "execution_count": null,
      "outputs": []
    },
    {
      "cell_type": "code",
      "execution_count": 1,
      "id": "98c33f27",
      "metadata": {
        "id": "98c33f27",
        "outputId": "1b2ddd09-b96c-43e4-ba23-8f0f2893d7f7",
        "colab": {
          "base_uri": "https://localhost:8080/",
          "height": 317
        }
      },
      "outputs": [
        {
          "output_type": "error",
          "ename": "ModuleNotFoundError",
          "evalue": "ignored",
          "traceback": [
            "\u001b[0;31m---------------------------------------------------------------------------\u001b[0m",
            "\u001b[0;31mModuleNotFoundError\u001b[0m                       Traceback (most recent call last)",
            "\u001b[0;32m<ipython-input-1-013983e2c410>\u001b[0m in \u001b[0;36m<module>\u001b[0;34m\u001b[0m\n\u001b[1;32m      1\u001b[0m \u001b[0;31m# 必要モジュールの導入\u001b[0m\u001b[0;34m\u001b[0m\u001b[0;34m\u001b[0m\u001b[0;34m\u001b[0m\u001b[0m\n\u001b[0;32m----> 2\u001b[0;31m \u001b[0;32mimport\u001b[0m \u001b[0mpydicom\u001b[0m\u001b[0;34m\u001b[0m\u001b[0;34m\u001b[0m\u001b[0m\n\u001b[0m",
            "\u001b[0;31mModuleNotFoundError\u001b[0m: No module named 'pydicom'",
            "",
            "\u001b[0;31m---------------------------------------------------------------------------\u001b[0;32m\nNOTE: If your import is failing due to a missing package, you can\nmanually install dependencies using either !pip or !apt.\n\nTo view examples of installing some common dependencies, click the\n\"Open Examples\" button below.\n\u001b[0;31m---------------------------------------------------------------------------\u001b[0m\n"
          ],
          "errorDetails": {
            "actions": [
              {
                "action": "open_url",
                "actionText": "Open Examples",
                "url": "/notebooks/snippets/importing_libraries.ipynb"
              }
            ]
          }
        }
      ],
      "source": [
        "# 必要モジュールの導入\n",
        "import pydicom"
      ]
    },
    {
      "cell_type": "code",
      "execution_count": null,
      "id": "7ce14158",
      "metadata": {
        "id": "7ce14158",
        "outputId": "7b6fdc01-17f0-4b18-8914-01d3e3d5a8ea"
      },
      "outputs": [
        {
          "name": "stdout",
          "output_type": "stream",
          "text": [
            "Dataset.file_meta -------------------------------\n",
            "(0002, 0000) File Meta Information Group Length  UL: 218\n",
            "(0002, 0001) File Meta Information Version       OB: b'\\x00\\x01'\n",
            "(0002, 0002) Media Storage SOP Class UID         UI: CT Image Storage\n",
            "(0002, 0003) Media Storage SOP Instance UID      UI: 1.2.392.200036.9125.44234127234088000.65026475454.3.0.5\n",
            "(0002, 0010) Transfer Syntax UID                 UI: Explicit VR Little Endian\n",
            "(0002, 0012) Implementation Class UID            UI: 1.2.392.200036.9125.25185055246156.64531164435.0\n",
            "(0002, 0013) Implementation Version Name         SH: 'NAXIS_WS_6_88'\n",
            "-------------------------------------------------\n",
            "(0008, 0008) Image Type                          CS: ['ORIGINAL', 'PRIMARY', 'AXIAL']\n",
            "(0008, 0016) SOP Class UID                       UI: CT Image Storage\n",
            "(0008, 0018) SOP Instance UID                    UI: 1.2.392.200036.9125.44234127234088000.65026475454.3.0.5\n",
            "(0008, 0020) Study Date                          DA: '20230203'\n",
            "(0008, 0021) Series Date                         DA: '20230203'\n",
            "(0008, 0022) Acquisition Date                    DA: '20230203'\n",
            "(0008, 0023) Content Date                        DA: '20230203'\n",
            "(0008, 0030) Study Time                          TM: '133307.000'\n",
            "(0008, 0031) Series Time                         TM: '133348.735'\n",
            "(0008, 0032) Acquisition Time                    TM: '133358.750'\n",
            "(0008, 0033) Content Time                        TM: '133359.774'\n",
            "(0008, 0050) Accession Number                    SH: ''\n",
            "(0008, 0060) Modality                            CS: 'CT'\n",
            "(0008, 0070) Manufacturer                        LO: 'TOSHIBA'\n",
            "(0008, 0080) Institution Name                    LO: 'Erased'\n",
            "(0008, 0081) Institution Address                 ST: ''\n",
            "(0008, 0090) Referring Physician's Name          PN: ''\n",
            "(0008, 1010) Station Name                        SH: '0000000021'\n",
            "(0008, 1032)  Procedure Code Sequence  1 item(s) ---- \n",
            "   (0008, 0100) Code Value                          SH: '7V1001'\n",
            "   ---------\n",
            "(0008, 103e) Series Description                  LO: ',,Vol,1.0,Vol.'\n",
            "(0008, 1040) Institutional Department Name       LO: ''\n",
            "(0008, 1090) Manufacturer's Model Name           LO: 'Aquilion ONE'\n",
            "(0008, 1111)  Referenced Performed Procedure Step Sequence  1 item(s) ---- \n",
            "   (0008, 1150) Referenced SOP Class UID            UI: Modality Performed Procedure Step SOP Class\n",
            "   (0008, 1155) Referenced SOP Instance UID         UI: 1.2.392.200036.9116.2.6.1.3268.2051314110.1675398787.30186\n",
            "   ---------\n",
            "(0010, 0010) Patient's Name                      PN: 'ANON20230203051'\n",
            "(0010, 0020) Patient ID                          LO: 'ANON20230203051'\n",
            "(0010, 0030) Patient's Birth Date                DA: '19750122'\n",
            "(0010, 0040) Patient's Sex                       CS: 'F'\n",
            "(0010, 1010) Patient's Age                       AS: '048Y'\n",
            "(0010, 1020) Patient's Size                      DS: '1.61'\n",
            "(0010, 1030) Patient's Weight                    DS: '48.6'\n",
            "(0018, 0015) Body Part Examined                  CS: 'HEAD'\n",
            "(0018, 0022) Scan Options                        CS: 'HELICAL_CT'\n",
            "(0018, 0050) Slice Thickness                     DS: '1.0'\n",
            "(0018, 0060) KVP                                 DS: '120.0'\n",
            "(0018, 0090) Data Collection Diameter            DS: '240.0'\n",
            "(0018, 1000) Device Serial Number                LO: '6AA14Z2011'\n",
            "(0018, 1020) Software Versions                   LO: 'V7.03JR029'\n",
            "(0018, 1030) Protocol Name                       LO: '0'\n",
            "(0018, 1100) Reconstruction Diameter             DS: '240.0'\n",
            "(0018, 1120) Gantry/Detector Tilt                DS: '0.0'\n",
            "(0018, 1130) Table Height                        DS: '115.0'\n",
            "(0018, 1140) Rotation Direction                  CS: 'CW'\n",
            "(0018, 1150) Exposure Time                       IS: '1000'\n",
            "(0018, 1151) X-Ray Tube Current                  IS: '250'\n",
            "(0018, 1152) Exposure                            IS: '250'\n",
            "(0018, 1160) Filter Type                         SH: 'SMALL'\n",
            "(0018, 1170) Generator Power                     IS: '30'\n",
            "(0018, 1190) Focal Spot(s)                       DS: [0.9, 0.8]\n",
            "(0018, 1210) Convolution Kernel                  SH: 'FC26'\n",
            "(0018, 5100) Patient Position                    CS: 'FFS'\n",
            "(0018, 9305) Revolution Time                     FD: 1.0\n",
            "(0018, 9306) Single Collimation Width            FD: 1.0\n",
            "(0018, 9307) Total Collimation Width             FD: 32.0\n",
            "(0018, 9310) Table Feed per Rotation             FD: -21.0\n",
            "(0018, 9311) Spiral Pitch Factor                 FD: 0.656\n",
            "(0018, 9318) Reconstruction Target Center (Patie FD: [0.0, 0.0, 1995.0]\n",
            "(0018, 9345) CTDIvol                             FD: 84.9\n",
            "(0020, 000d) Study Instance UID                  UI: 1.2.392.200036.9125.44234127234088000.65026475454.0.0.5\n",
            "(0020, 000e) Series Instance UID                 UI: 1.2.392.200036.9125.44234127234088000.65026475454.1.0.5\n",
            "(0020, 0010) Study ID                            SH: '9990001005122'\n",
            "(0020, 0011) Series Number                       IS: '3'\n",
            "(0020, 0012) Acquisition Number                  IS: '2'\n",
            "(0020, 0013) Instance Number                     IS: '1'\n",
            "(0020, 0020) Patient Orientation                 CS: ['L', 'P']\n",
            "(0020, 0032) Image Position (Patient)            DS: [-119.7656, -119.7656, 1995.00]\n",
            "(0020, 0037) Image Orientation (Patient)         DS: [1.00000, 0.00000, 0.00000, 0.00000, 1.00000, 0.00000]\n",
            "(0020, 0052) Frame of Reference UID              UI: 1.2.392.200036.9116.2.6.1.3268.2051314110.1675398805.456056\n",
            "(0020, 1040) Position Reference Indicator        LO: ''\n",
            "(0020, 1041) Slice Location                      DS: '0.0'\n",
            "(0028, 0002) Samples per Pixel                   US: 1\n",
            "(0028, 0004) Photometric Interpretation          CS: 'MONOCHROME2'\n",
            "(0028, 0010) Rows                                US: 512\n",
            "(0028, 0011) Columns                             US: 512\n",
            "(0028, 0030) Pixel Spacing                       DS: [0.468, 0.468]\n",
            "(0028, 0100) Bits Allocated                      US: 16\n",
            "(0028, 0101) Bits Stored                         US: 16\n",
            "(0028, 0102) High Bit                            US: 15\n",
            "(0028, 0103) Pixel Representation                US: 1\n",
            "(0028, 1050) Window Center                       DS: '35.0'\n",
            "(0028, 1051) Window Width                        DS: '100.0'\n",
            "(0028, 1052) Rescale Intercept                   DS: '0.0'\n",
            "(0028, 1053) Rescale Slope                       DS: '1.0'\n",
            "(0040, 0244) Performed Procedure Step Start Date DA: ''\n",
            "(0040, 0245) Performed Procedure Step Start Time TM: ''\n",
            "(0040, 0253) Performed Procedure Step ID         SH: ''\n",
            "(0040, 0260)  Performed Protocol Code Sequence  0 item(s) ---- \n",
            "(0040, 0275)  Request Attributes Sequence  0 item(s) ---- \n",
            "(7005, 0010) Private Creator                     LO: 'TOSHIBA_MEC_CT3'\n",
            "(7005, 100b) [Filter]                            SH: 'ORG'\n",
            "(7fe0, 0010) Pixel Data                          OW: Array of 524288 elements\n"
          ]
        }
      ],
      "source": [
        "# DICOM ファイルの読み込み\n",
        "d = pydicom.read_file(\"PASS\")\n",
        "\n",
        "# 読み込んだ変数の表示\n",
        "print(d)"
      ]
    },
    {
      "cell_type": "code",
      "execution_count": null,
      "id": "f40300d8",
      "metadata": {
        "id": "f40300d8"
      },
      "outputs": [],
      "source": []
    }
  ],
  "metadata": {
    "kernelspec": {
      "display_name": "Python 3 (ipykernel)",
      "language": "python",
      "name": "python3"
    },
    "language_info": {
      "codemirror_mode": {
        "name": "ipython",
        "version": 3
      },
      "file_extension": ".py",
      "mimetype": "text/x-python",
      "name": "python",
      "nbconvert_exporter": "python",
      "pygments_lexer": "ipython3",
      "version": "3.10.9"
    },
    "colab": {
      "provenance": [],
      "include_colab_link": true
    }
  },
  "nbformat": 4,
  "nbformat_minor": 5
}