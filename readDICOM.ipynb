{
 "cells": [
  {
   "cell_type": "markdown",
   "id": "d96c6c21",
   "metadata": {
    "colab_type": "text",
    "id": "view-in-github"
   },
   "source": [
    "[![Open In Colab](https://colab.research.google.com/assets/colab-badge.svg)](https://colab.research.google.com/github/ryskks/usedicom/blob/main/readDICOM.ipynb)"
   ]
  },
  {
   "cell_type": "markdown",
   "id": "66fa55ce",
   "metadata": {
    "id": "66fa55ce"
   },
   "source": [
    "# Python で DICOM 画像を読み込む"
   ]
  },
  {
   "cell_type": "markdown",
   "id": "a52a2192",
   "metadata": {},
   "source": [
    "## DICOM メタデータの表示"
   ]
  },
  {
   "cell_type": "code",
   "execution_count": null,
   "id": "Q-tC5m7wrNiz",
   "metadata": {
    "colab": {
     "base_uri": "https://localhost:8080/"
    },
    "id": "Q-tC5m7wrNiz",
    "outputId": "2675a909-97bf-4f4e-e7e8-600150cde950"
   },
   "outputs": [
    {
     "name": "stdout",
     "output_type": "stream",
     "text": [
      "Drive already mounted at /content/drive; to attempt to forcibly remount, call drive.mount(\"/content/drive\", force_remount=True).\n"
     ]
    }
   ],
   "source": [
    "# Google Drive のマウント\n",
    "from google.colab import drive\n",
    "drive.mount('/content/drive')"
   ]
  },
  {
   "cell_type": "code",
   "execution_count": 24,
   "id": "K9l8kFyosiQm",
   "metadata": {
    "colab": {
     "base_uri": "https://localhost:8080/"
    },
    "id": "K9l8kFyosiQm",
    "outputId": "a428325b-664f-4c1d-c214-9e8c4d47ba8b"
   },
   "outputs": [
    {
     "name": "stdout",
     "output_type": "stream",
     "text": [
      "Requirement already satisfied: pydicom in /opt/homebrew/lib/python3.10/site-packages (2.3.1)\n",
      "Requirement already satisfied: pylibjpeg in /opt/homebrew/lib/python3.10/site-packages (1.4.0)\n",
      "Requirement already satisfied: numpy in /opt/homebrew/lib/python3.10/site-packages (from pylibjpeg) (1.22.1)\n",
      "\u001b[31mERROR: Could not find a version that satisfies the requirement gdcm (from versions: none)\u001b[0m\u001b[31m\n",
      "\u001b[0m\u001b[31mERROR: No matching distribution found for gdcm\u001b[0m\u001b[31m\n",
      "\u001b[0m"
     ]
    }
   ],
   "source": [
    "# 必要なパッケージのインストール\n",
    "!pip install pydicom\n",
    "!pip install pylibjpeg\n",
    "!pip install gdcm"
   ]
  },
  {
   "cell_type": "code",
   "execution_count": 22,
   "id": "98c33f27",
   "metadata": {
    "id": "98c33f27"
   },
   "outputs": [
    {
     "ename": "ModuleNotFoundError",
     "evalue": "No module named 'gdcm'",
     "output_type": "error",
     "traceback": [
      "\u001b[0;31m---------------------------------------------------------------------------\u001b[0m",
      "\u001b[0;31mModuleNotFoundError\u001b[0m                       Traceback (most recent call last)",
      "Cell \u001b[0;32mIn [22], line 8\u001b[0m\n\u001b[1;32m      6\u001b[0m \u001b[38;5;28;01mimport\u001b[39;00m \u001b[38;5;21;01mnumpy\u001b[39;00m \u001b[38;5;28;01mas\u001b[39;00m \u001b[38;5;21;01mnp\u001b[39;00m\n\u001b[1;32m      7\u001b[0m \u001b[38;5;28;01mimport\u001b[39;00m \u001b[38;5;21;01mpylibjpeg\u001b[39;00m\n\u001b[0;32m----> 8\u001b[0m \u001b[38;5;28;01mimport\u001b[39;00m \u001b[38;5;21;01mgdcm\u001b[39;00m\n",
      "\u001b[0;31mModuleNotFoundError\u001b[0m: No module named 'gdcm'"
     ]
    }
   ],
   "source": [
    "# 必要モジュールの導入\n",
    "%matplotlib inline\n",
    " \n",
    "import matplotlib.pyplot as plt\n",
    "import pydicom\n",
    "import pylibjpeg"
   ]
  },
  {
   "cell_type": "code",
   "execution_count": 23,
   "id": "7ce14158",
   "metadata": {
    "colab": {
     "base_uri": "https://localhost:8080/"
    },
    "id": "7ce14158",
    "outputId": "01163b33-9792-4802-d584-079249fcfb2d"
   },
   "outputs": [
    {
     "name": "stdout",
     "output_type": "stream",
     "text": [
      "Dataset.file_meta -------------------------------\n",
      "(0002, 0000) File Meta Information Group Length  UL: 174\n",
      "(0002, 0001) File Meta Information Version       OB: b'\\x00\\x01'\n",
      "(0002, 0002) Media Storage SOP Class UID         UI: Computed Radiography Image Storage\n",
      "(0002, 0003) Media Storage SOP Instance UID      UI: 1.2.392.200036.8120.100.20081117.1165844.2001001001\n",
      "(0002, 0010) Transfer Syntax UID                 UI: JPEG Lossless, Non-Hierarchical, First-Order Prediction (Process 14 [Selection Value 1])\n",
      "(0002, 0012) Implementation Class UID            UI: 1.2.826.0.1.3680043.2.1545.1\n",
      "-------------------------------------------------\n",
      "(0008, 0008) Image Type                          CS: ['ORIGINAL', 'PRIMARY']\n",
      "(0008, 0016) SOP Class UID                       UI: Computed Radiography Image Storage\n",
      "(0008, 0018) SOP Instance UID                    UI: 1.2.392.200036.8120.100.20081117.1165844.2001001001\n",
      "(0008, 0020) Study Date                          DA: '20081117'\n",
      "(0008, 0021) Series Date                         DA: '20081117'\n",
      "(0008, 0022) Acquisition Date                    DA: '20081117'\n",
      "(0008, 0023) Content Date                        DA: '20081117'\n",
      "(0008, 0030) Study Time                          TM: '165844.000'\n",
      "(0008, 0031) Series Time                         TM: '165906.000'\n",
      "(0008, 0032) Acquisition Time                    TM: '165906.000'\n",
      "(0008, 0033) Content Time                        TM: '165906.000'\n",
      "(0008, 0050) Accession Number                    SH: 'CR12345678'\n",
      "(0008, 0060) Modality                            CS: 'CR'\n",
      "(0008, 0070) Manufacturer                        LO: 'JIRA'\n",
      "(0008, 0080) Institution Name                    LO: 'JIRA HOSPITAL'\n",
      "(0008, 0090) Referring Physician's Name          PN: 'SHIROGANE^HIDEO'\n",
      "(0008, 1010) Station Name                        SH: 'ST001'\n",
      "(0008, 1030) Study Description                   LO: ''\n",
      "(0008, 103e) Series Description                  LO: ''\n",
      "(0008, 1070) Operators' Name                     PN: 'HOSYASEN^TARO'\n",
      "(0008, 1090) Manufacturer's Model Name           LO: 'CR0001'\n",
      "(0010, 0010) Patient's Name                      PN: 'AKIHABARA^TARO'\n",
      "(0010, 0020) Patient ID                          LO: '2008123456'\n",
      "(0010, 0030) Patient's Birth Date                DA: '19790201'\n",
      "(0010, 0040) Patient's Sex                       CS: 'M'\n",
      "(0010, 1020) Patient's Size                      DS: None\n",
      "(0010, 1030) Patient's Weight                    DS: None\n",
      "(0018, 0015) Body Part Examined                  CS: 'CHEST'\n",
      "(0018, 0060) KVP                                 DS: '125.0'\n",
      "(0018, 1000) Device Serial Number                LO: 'A0123456'\n",
      "(0018, 1020) Software Versions                   LO: 'JIRAVer1.0'\n",
      "(0018, 1110) Distance Source to Detector         DS: '1800.0'\n",
      "(0018, 1150) Exposure Time                       IS: '500'\n",
      "(0018, 1151) X-Ray Tube Current                  IS: '100'\n",
      "(0018, 1152) Exposure                            IS: '50'\n",
      "(0018, 1155) Radiation Setting                   CS: 'GR'\n",
      "(0018, 5100) Patient Position                    CS: ''\n",
      "(0018, 5101) View Position                       CS: 'AP'\n",
      "(0020, 000d) Study Instance UID                  UI: 1.2.392.200036.8120.100.20081117.1165844.2001\n",
      "(0020, 000e) Series Instance UID                 UI: 1.2.392.200036.8120.100.20081117.1165844.2001001\n",
      "(0020, 0010) Study ID                            SH: '58'\n",
      "(0020, 0011) Series Number                       IS: '1'\n",
      "(0020, 0012) Acquisition Number                  IS: '1'\n",
      "(0020, 0013) Instance Number                     IS: '1'\n",
      "(0020, 0020) Patient Orientation                 CS: ''\n",
      "(0020, 0060) Laterality                          CS: ''\n",
      "(0028, 0002) Samples per Pixel                   US: 1\n",
      "(0028, 0004) Photometric Interpretation          CS: 'MONOCHROME2'\n",
      "(0028, 0010) Rows                                US: 3000\n",
      "(0028, 0011) Columns                             US: 3000\n",
      "(0028, 0030) Pixel Spacing                       DS: [0.143, 0.143]\n",
      "(0028, 0100) Bits Allocated                      US: 16\n",
      "(0028, 0101) Bits Stored                         US: 12\n",
      "(0028, 0102) High Bit                            US: 11\n",
      "(0028, 0103) Pixel Representation                US: 0\n",
      "(0028, 1040) Pixel Intensity Relationship        CS: 'LIN'\n",
      "(0028, 1050) Window Center                       DS: '2048.0'\n",
      "(0028, 1051) Window Width                        DS: '4095.0'\n",
      "(7fe0, 0010) Pixel Data                          OB: Array of 7948260 elements\n"
     ]
    }
   ],
   "source": [
    "# DICOM ファイルの読み込み\n",
    "DIR = /content/drive/MyDrive/Colab Notebooks/DICOM/CT_JPG_IR87a.dcm\n",
    "d = pydicom.read_file(\"DIR\")\n",
    "\n",
    "# 読み込んだ変数の表示\n",
    "print(d)"
   ]
  },
  {
   "cell_type": "markdown",
   "id": "sQh-x2p1vNy_",
   "metadata": {
    "id": "sQh-x2p1vNy_"
   },
   "source": [
    "テキストの一覧が表示されれば成功\n",
    " - モダリティは何か\n",
    " - 疑似患者の年齢は\n",
    " - 管電圧はどれくらいだろうか\n",
    "などを調べてみよう．"
   ]
  },
  {
   "cell_type": "markdown",
   "id": "e1851a21",
   "metadata": {},
   "source": [
    "## DICOM 画像の表示"
   ]
  },
  {
   "cell_type": "code",
   "execution_count": 21,
   "id": "a34bf481",
   "metadata": {},
   "outputs": [
    {
     "name": "stdout",
     "output_type": "stream",
     "text": [
      "wc= 2048\n",
      "ww= 4095\n",
      "max= 4095.5\n",
      "min= 0.5\n"
     ]
    },
    {
     "ename": "RuntimeError",
     "evalue": "The following handlers are available to decode the pixel data however they are missing required dependencies: GDCM (req. GDCM), pylibjpeg (req. )",
     "output_type": "error",
     "traceback": [
      "\u001b[0;31m---------------------------------------------------------------------------\u001b[0m",
      "\u001b[0;31mRuntimeError\u001b[0m                              Traceback (most recent call last)",
      "Cell \u001b[0;32mIn [21], line 12\u001b[0m\n\u001b[1;32m      9\u001b[0m \u001b[38;5;28mprint\u001b[39m(\u001b[38;5;124m\"\u001b[39m\u001b[38;5;124mmin=\u001b[39m\u001b[38;5;124m\"\u001b[39m, \u001b[38;5;28mmin\u001b[39m)\n\u001b[1;32m     11\u001b[0m \u001b[38;5;66;03m#画像の表示\u001b[39;00m\n\u001b[0;32m---> 12\u001b[0m plt\u001b[38;5;241m.\u001b[39mimshow(\u001b[43md\u001b[49m\u001b[38;5;241;43m.\u001b[39;49m\u001b[43mpixel_array\u001b[49m, cmap \u001b[38;5;241m=\u001b[39m \u001b[38;5;124m'\u001b[39m\u001b[38;5;124mgray\u001b[39m\u001b[38;5;124m'\u001b[39m, vmax \u001b[38;5;241m=\u001b[39m \u001b[38;5;28mmax\u001b[39m, vmin \u001b[38;5;241m=\u001b[39m \u001b[38;5;28mmin\u001b[39m)\n\u001b[1;32m     13\u001b[0m plt\u001b[38;5;241m.\u001b[39mshow()\n",
      "File \u001b[0;32m/opt/homebrew/lib/python3.10/site-packages/pydicom/dataset.py:1887\u001b[0m, in \u001b[0;36mDataset.pixel_array\u001b[0;34m(self)\u001b[0m\n\u001b[1;32m   1872\u001b[0m \u001b[38;5;129m@property\u001b[39m\n\u001b[1;32m   1873\u001b[0m \u001b[38;5;28;01mdef\u001b[39;00m \u001b[38;5;21mpixel_array\u001b[39m(\u001b[38;5;28mself\u001b[39m) \u001b[38;5;241m-\u001b[39m\u001b[38;5;241m>\u001b[39m \u001b[38;5;124m\"\u001b[39m\u001b[38;5;124mnumpy.ndarray\u001b[39m\u001b[38;5;124m\"\u001b[39m:\n\u001b[1;32m   1874\u001b[0m     \u001b[38;5;124;03m\"\"\"Return the pixel data as a :class:`numpy.ndarray`.\u001b[39;00m\n\u001b[1;32m   1875\u001b[0m \n\u001b[1;32m   1876\u001b[0m \u001b[38;5;124;03m    .. versionchanged:: 1.4\u001b[39;00m\n\u001b[0;32m   (...)\u001b[0m\n\u001b[1;32m   1885\u001b[0m \u001b[38;5;124;03m        :class:`numpy.ndarray`.\u001b[39;00m\n\u001b[1;32m   1886\u001b[0m \u001b[38;5;124;03m    \"\"\"\u001b[39;00m\n\u001b[0;32m-> 1887\u001b[0m     \u001b[38;5;28;43mself\u001b[39;49m\u001b[38;5;241;43m.\u001b[39;49m\u001b[43mconvert_pixel_data\u001b[49m\u001b[43m(\u001b[49m\u001b[43m)\u001b[49m\n\u001b[1;32m   1888\u001b[0m     \u001b[38;5;28;01mreturn\u001b[39;00m cast(\u001b[38;5;124m\"\u001b[39m\u001b[38;5;124mnumpy.ndarray\u001b[39m\u001b[38;5;124m\"\u001b[39m, \u001b[38;5;28mself\u001b[39m\u001b[38;5;241m.\u001b[39m_pixel_array)\n",
      "File \u001b[0;32m/opt/homebrew/lib/python3.10/site-packages/pydicom/dataset.py:1444\u001b[0m, in \u001b[0;36mDataset.convert_pixel_data\u001b[0;34m(self, handler_name)\u001b[0m\n\u001b[1;32m   1442\u001b[0m     \u001b[38;5;28mself\u001b[39m\u001b[38;5;241m.\u001b[39m_convert_pixel_data_using_handler(handler_name)\n\u001b[1;32m   1443\u001b[0m \u001b[38;5;28;01melse\u001b[39;00m:\n\u001b[0;32m-> 1444\u001b[0m     \u001b[38;5;28;43mself\u001b[39;49m\u001b[38;5;241;43m.\u001b[39;49m\u001b[43m_convert_pixel_data_without_handler\u001b[49m\u001b[43m(\u001b[49m\u001b[43m)\u001b[49m\n",
      "File \u001b[0;32m/opt/homebrew/lib/python3.10/site-packages/pydicom/dataset.py:1531\u001b[0m, in \u001b[0;36mDataset._convert_pixel_data_without_handler\u001b[0;34m(self)\u001b[0m\n\u001b[1;32m   1525\u001b[0m         names \u001b[38;5;241m=\u001b[39m [hh_deps[name][\u001b[38;5;241m1\u001b[39m] \u001b[38;5;28;01mfor\u001b[39;00m name \u001b[38;5;129;01min\u001b[39;00m missing]\n\u001b[1;32m   1526\u001b[0m         pkg_msg\u001b[38;5;241m.\u001b[39mappend(\n\u001b[1;32m   1527\u001b[0m             \u001b[38;5;124mf\u001b[39m\u001b[38;5;124m\"\u001b[39m\u001b[38;5;132;01m{\u001b[39;00mhh\u001b[38;5;241m.\u001b[39mHANDLER_NAME\u001b[38;5;132;01m}\u001b[39;00m\u001b[38;5;124m \u001b[39m\u001b[38;5;124m\"\u001b[39m\n\u001b[1;32m   1528\u001b[0m             \u001b[38;5;124mf\u001b[39m\u001b[38;5;124m\"\u001b[39m\u001b[38;5;124m(req. \u001b[39m\u001b[38;5;132;01m{\u001b[39;00m\u001b[38;5;124m'\u001b[39m\u001b[38;5;124m, \u001b[39m\u001b[38;5;124m'\u001b[39m\u001b[38;5;241m.\u001b[39mjoin(names)\u001b[38;5;132;01m}\u001b[39;00m\u001b[38;5;124m)\u001b[39m\u001b[38;5;124m\"\u001b[39m\n\u001b[1;32m   1529\u001b[0m         )\n\u001b[0;32m-> 1531\u001b[0m     \u001b[38;5;28;01mraise\u001b[39;00m \u001b[38;5;167;01mRuntimeError\u001b[39;00m(msg \u001b[38;5;241m+\u001b[39m \u001b[38;5;124m'\u001b[39m\u001b[38;5;124m, \u001b[39m\u001b[38;5;124m'\u001b[39m\u001b[38;5;241m.\u001b[39mjoin(pkg_msg))\n\u001b[1;32m   1533\u001b[0m last_exception \u001b[38;5;241m=\u001b[39m \u001b[38;5;28;01mNone\u001b[39;00m\n\u001b[1;32m   1534\u001b[0m \u001b[38;5;28;01mfor\u001b[39;00m handler \u001b[38;5;129;01min\u001b[39;00m available_handlers:\n",
      "\u001b[0;31mRuntimeError\u001b[0m: The following handlers are available to decode the pixel data however they are missing required dependencies: GDCM (req. GDCM), pylibjpeg (req. )"
     ]
    }
   ],
   "source": [
    "wc = d.WindowCenter     #ウィンドウセンターの取得\n",
    "ww = d.WindowWidth      #ウィンドウ幅の取得\n",
    "print(\"wc=\", wc)\n",
    "print(\"ww=\", ww)\n",
    "\n",
    "max = wc + ww / 2         #表示最大画素値\n",
    "min = wc - ww / 2         #表示最小画素値\n",
    "print(\"max=\", max)\n",
    "print(\"min=\", min)\n",
    "\n",
    "#画像の表示\n",
    "plt.imshow(d.pixel_array, cmap = 'gray', vmax = max, vmin = min)\n",
    "plt.show()"
   ]
  }
 ],
 "metadata": {
  "colab": {
   "include_colab_link": true,
   "provenance": []
  },
  "kernelspec": {
   "display_name": "Python 3 (ipykernel)",
   "language": "python",
   "name": "python3"
  },
  "language_info": {
   "codemirror_mode": {
    "name": "ipython",
    "version": 3
   },
   "file_extension": ".py",
   "mimetype": "text/x-python",
   "name": "python",
   "nbconvert_exporter": "python",
   "pygments_lexer": "ipython3",
   "version": "3.10.9"
  }
 },
 "nbformat": 4,
 "nbformat_minor": 5
}
