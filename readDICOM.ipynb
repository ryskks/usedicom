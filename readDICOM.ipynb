{
  "cells": [
    {
      "cell_type": "markdown",
      "metadata": {
        "id": "view-in-github",
        "colab_type": "text"
      },
      "source": [
        "<a href=\"https://colab.research.google.com/github/ryskks/usedicom/blob/main/readDICOM.ipynb\" target=\"_parent\"><img src=\"https://colab.research.google.com/assets/colab-badge.svg\" alt=\"Open In Colab\"/></a>"
      ]
    },
    {
      "cell_type": "markdown",
      "id": "66fa55ce",
      "metadata": {
        "id": "66fa55ce"
      },
      "source": [
        "# Python で DICOM 画像を読み込む"
      ]
    },
    {
      "cell_type": "markdown",
      "id": "a52a2192",
      "metadata": {
        "id": "a52a2192"
      },
      "source": [
        "## DICOM メタデータの表示"
      ]
    },
    {
      "cell_type": "code",
      "execution_count": 34,
      "id": "Q-tC5m7wrNiz",
      "metadata": {
        "colab": {
          "base_uri": "https://localhost:8080/"
        },
        "id": "Q-tC5m7wrNiz",
        "outputId": "7235ca85-ee57-4631-8337-efee57e47a30"
      },
      "outputs": [
        {
          "output_type": "stream",
          "name": "stdout",
          "text": [
            "Drive already mounted at /content/drive; to attempt to forcibly remount, call drive.mount(\"/content/drive\", force_remount=True).\n"
          ]
        }
      ],
      "source": [
        "# Google Drive のマウント\n",
        "from google.colab import drive\n",
        "drive.mount('/content/drive')"
      ]
    },
    {
      "cell_type": "code",
      "execution_count": 35,
      "id": "K9l8kFyosiQm",
      "metadata": {
        "colab": {
          "base_uri": "https://localhost:8080/"
        },
        "id": "K9l8kFyosiQm",
        "outputId": "1ca29d74-9d41-46ca-bf6e-95accaf72105"
      },
      "outputs": [
        {
          "output_type": "stream",
          "name": "stdout",
          "text": [
            "Looking in indexes: https://pypi.org/simple, https://us-python.pkg.dev/colab-wheels/public/simple/\n",
            "Requirement already satisfied: pydicom in /usr/local/lib/python3.8/dist-packages (2.3.1)\n",
            "Looking in indexes: https://pypi.org/simple, https://us-python.pkg.dev/colab-wheels/public/simple/\n",
            "Requirement already satisfied: matplotlib in /usr/local/lib/python3.8/dist-packages (3.2.2)\n",
            "Requirement already satisfied: cycler>=0.10 in /usr/local/lib/python3.8/dist-packages (from matplotlib) (0.11.0)\n",
            "Requirement already satisfied: python-dateutil>=2.1 in /usr/local/lib/python3.8/dist-packages (from matplotlib) (2.8.2)\n",
            "Requirement already satisfied: kiwisolver>=1.0.1 in /usr/local/lib/python3.8/dist-packages (from matplotlib) (1.4.4)\n",
            "Requirement already satisfied: pyparsing!=2.0.4,!=2.1.2,!=2.1.6,>=2.0.1 in /usr/local/lib/python3.8/dist-packages (from matplotlib) (3.0.9)\n",
            "Requirement already satisfied: numpy>=1.11 in /usr/local/lib/python3.8/dist-packages (from matplotlib) (1.21.6)\n",
            "Requirement already satisfied: six>=1.5 in /usr/local/lib/python3.8/dist-packages (from python-dateutil>=2.1->matplotlib) (1.15.0)\n",
            "Looking in indexes: https://pypi.org/simple, https://us-python.pkg.dev/colab-wheels/public/simple/\n",
            "Requirement already satisfied: python-gdcm in /usr/local/lib/python3.8/dist-packages (3.0.21)\n",
            "Looking in indexes: https://pypi.org/simple, https://us-python.pkg.dev/colab-wheels/public/simple/\n",
            "Requirement already satisfied: pylibjpeg in /usr/local/lib/python3.8/dist-packages (1.4.0)\n",
            "Requirement already satisfied: numpy in /usr/local/lib/python3.8/dist-packages (from pylibjpeg) (1.21.6)\n"
          ]
        }
      ],
      "source": [
        "# 必要なパッケージのインストール\n",
        "!pip install pydicom\n",
        "!pip install matplotlib\n",
        "!pip install -U python-gdcm\n",
        "!pip install pylibjpeg"
      ]
    },
    {
      "cell_type": "code",
      "execution_count": 36,
      "id": "98c33f27",
      "metadata": {
        "id": "98c33f27"
      },
      "outputs": [],
      "source": [
        "# 必要モジュールの導入\n",
        "%matplotlib inline\n",
        "import matplotlib.pyplot as plt\n",
        "import pydicom"
      ]
    },
    {
      "cell_type": "code",
      "execution_count": 37,
      "id": "7ce14158",
      "metadata": {
        "colab": {
          "base_uri": "https://localhost:8080/"
        },
        "id": "7ce14158",
        "outputId": "e1fd970b-e83b-4cbf-ae5f-bff61a87b828"
      },
      "outputs": [
        {
          "output_type": "stream",
          "name": "stdout",
          "text": [
            "Dataset.file_meta -------------------------------\n",
            "(0002, 0000) File Meta Information Group Length  UL: 194\n",
            "(0002, 0001) File Meta Information Version       OB: b'\\x00\\x01'\n",
            "(0002, 0002) Media Storage SOP Class UID         UI: CT Image Storage\n",
            "(0002, 0003) Media Storage SOP Instance UID      UI: 2.16.840.1.113662.2.1.4519.41582.4105152.419990505.410523251\n",
            "(0002, 0010) Transfer Syntax UID                 UI: Explicit VR Little Endian\n",
            "(0002, 0012) Implementation Class UID            UI: 2.16.840.1.113662.2.1.1\n",
            "(0002, 0016) Source Application Entity Title     AE: 'PHOENIXSCP'\n",
            "-------------------------------------------------\n",
            "(0008, 0000) Group Length                        UL: 596\n",
            "(0008, 0005) Specific Character Set              CS: 'ISO_IR 100'\n",
            "(0008, 0008) Image Type                          CS: ['ORIGINAL', 'PRIMARY', 'AXIAL']\n",
            "(0008, 0012) Instance Creation Date              DA: '1999.05.05'\n",
            "(0008, 0013) Instance Creation Time              TM: '10:52:34.530000'\n",
            "(0008, 0016) SOP Class UID                       UI: CT Image Storage\n",
            "(0008, 0018) SOP Instance UID                    UI: 2.16.840.1.113662.2.1.4519.41582.4105152.419990505.410523251\n",
            "(0008, 0020) Study Date                          DA: '1999.05.05'\n",
            "(0008, 0021) Series Date                         DA: '1999.05.05'\n",
            "(0008, 0022) Acquisition Date                    DA: '1999.05.05'\n",
            "(0008, 0023) Content Date                        DA: '1999.05.05'\n",
            "(0008, 0030) Study Time                          TM: '10:52:34.530000'\n",
            "(0008, 0031) Series Time                         TM: '10:52:34.530000'\n",
            "(0008, 0032) Acquisition Time                    TM: '10:52:34.530000'\n",
            "(0008, 0033) Content Time                        TM: '10:52:32.510000'\n",
            "(0008, 0060) Modality                            CS: 'CT'\n",
            "(0008, 0070) Manufacturer                        LO: 'Picker International, Inc.'\n",
            "(0008, 0080) Institution Name                    LO: '105 HOSPITAL'\n",
            "(0008, 0090) Referring Physician's Name          PN: 'Anonymized'\n",
            "(0008, 1010) Station Name                        SH: 'Picker CT'\n",
            "(0008, 1030) Study Description                   LO: ''\n",
            "(0008, 1050) Performing Physician's Name         PN: 'Anonymized'\n",
            "(0008, 1060) Name of Physician(s) Reading Study  PN: 'Anonymized'\n",
            "(0008, 1070) Operators' Name                     PN: 'Anonymized'\n",
            "(0008, 1090) Manufacturer's Model Name           LO: 'PQ5000'\n",
            "(0010, 0000) Group Length                        UL: 18\n",
            "(0010, 0010) Patient's Name                      PN: 'Anonymized'\n",
            "(0018, 0000) Group Length                        UL: 124\n",
            "(0018, 0010) Contrast/Bolus Agent                LO: 'C-'\n",
            "(0018, 0050) Slice Thickness                     DS: '10.0'\n",
            "(0018, 0060) KVP                                 DS: '120.0'\n",
            "(0018, 1000) Device Serial Number                LO: '519'\n",
            "(0018, 1030) Protocol Name                       LO: 'ADULT BRAIN/U'\n",
            "(0018, 1120) Gantry/Detector Tilt                DS: '0.0'\n",
            "(0018, 1151) X-Ray Tube Current                  IS: '250'\n",
            "(0018, 1152) Exposure                            IS: '526'\n",
            "(0018, 1160) Filter Type                         SH: '0'\n",
            "(0018, 5100) Patient Position                    CS: 'HFS'\n",
            "(0020, 0000) Group Length                        UL: 366\n",
            "(0020, 000d) Study Instance UID                  UI: 2.16.840.1.113662.2.1.1519.11582.1990505.1105152\n",
            "(0020, 000e) Series Instance UID                 UI: 2.16.840.1.113662.2.1.2519.21582.2990505.2105152.2381633.20\n",
            "(0020, 0011) Series Number                       IS: '3513'\n",
            "(0020, 0012) Acquisition Number                  IS: '3513'\n",
            "(0020, 0013) Instance Number                     IS: '8'\n",
            "(0020, 0020) Patient Orientation                 CS: ['L', 'P']\n",
            "(0020, 0032) Image Position (Patient)            DS: [-1.197656e02, -3.997656e02, -2.800000e02]\n",
            "(0020, 0037) Image Orientation (Patient)         DS: [1.000000e00, 0.000000e00, 0.000000e00, 0.000000e00, 1.000000e00, 0.000000e00]\n",
            "(0020, 0052) Frame of Reference UID              UI: 2.16.840.1.113662.2.1.3519.31582.3990505.3105152\n",
            "(0020, 1041) Slice Location                      DS: '280.0'\n",
            "(0028, 0000) Group Length                        UL: 154\n",
            "(0028, 0002) Samples per Pixel                   US: 1\n",
            "(0028, 0004) Photometric Interpretation          CS: 'MONOCHROME2'\n",
            "(0028, 0010) Rows                                US: 512\n",
            "(0028, 0011) Columns                             US: 512\n",
            "(0028, 0030) Pixel Spacing                       DS: [0.46875, 0.46875]\n",
            "(0028, 0100) Bits Allocated                      US: 16\n",
            "(0028, 0101) Bits Stored                         US: 16\n",
            "(0028, 0102) High Bit                            US: 15\n",
            "(0028, 0103) Pixel Representation                US: 1\n",
            "(0028, 1050) Window Center                       DS: '50.0'\n",
            "(0028, 1051) Window Width                        DS: '75.0'\n",
            "(0028, 1052) Rescale Intercept                   DS: '0.0'\n",
            "(0028, 1053) Rescale Slope                       DS: '1.0'\n",
            "(7fe0, 0000) Group Length                        UL: 524300\n",
            "(7fe0, 0010) Pixel Data                          OW: Array of 524288 elements\n",
            "変数の型 <class 'pydicom.dataset.FileDataset'>\n",
            "要素数 65\n"
          ]
        }
      ],
      "source": [
        "# DICOM ファイルの読み込み\n",
        "# PATH が正しいかを確認すること\n",
        "DIR = \"/content/drive/MyDrive/Colab Notebooks/DICOM/IMG_head.dcm\"\n",
        "\n",
        "# DICOM ファイルを変数に代入\n",
        "d = pydicom.read_file(DIR)\n",
        "\n",
        "# 読み込んだ変数の表示\n",
        "print(d)\n",
        "print('変数の型', type(d))\n",
        "print('要素数', len(d))"
      ]
    },
    {
      "cell_type": "code",
      "source": [
        "# 必要な部分だけの抽出も可能\n",
        "# 16 進数表記であることに注意\n",
        "print(d[0x0018, 0x1151])"
      ],
      "metadata": {
        "id": "Rjl1r_x6qIaF",
        "outputId": "5178723c-9c63-4eba-9faf-2358e2ccc411",
        "colab": {
          "base_uri": "https://localhost:8080/"
        }
      },
      "id": "Rjl1r_x6qIaF",
      "execution_count": 38,
      "outputs": [
        {
          "output_type": "stream",
          "name": "stdout",
          "text": [
            "(0018, 1151) X-Ray Tube Current                  IS: '250'\n"
          ]
        }
      ]
    },
    {
      "cell_type": "markdown",
      "id": "sQh-x2p1vNy_",
      "metadata": {
        "id": "sQh-x2p1vNy_"
      },
      "source": [
        "テキストの一覧が表示されれば成功\n",
        " - モダリティは何か\n",
        " - 疑似患者の年齢は\n",
        " - 管電圧はどれくらいだろうか\n",
        "などを調べてみよう．"
      ]
    },
    {
      "cell_type": "markdown",
      "source": [
        "DICOM 規格で定義されている TAG や keyword は [Registry of DICOM Data Elements](https://dicom.nema.org/medical/dicom/current/output/chtml/part06/chapter_6.html#table_6-1)  などにあります．\n",
        "実際の DICOM ファイルはこのすべてを持っているわけない．読み込んだ DICOM ファイルが持っている keyword の一覧は dir メソッドで取得することができます．"
      ],
      "metadata": {
        "id": "zFqP_CxWtwmT"
      },
      "id": "zFqP_CxWtwmT"
    },
    {
      "cell_type": "code",
      "source": [
        "# keyword 一覧\n",
        "print(d.dir())"
      ],
      "metadata": {
        "id": "t_xtg_CGuUtJ",
        "outputId": "81c7ce8b-163f-4fa0-e86d-82406028535c",
        "colab": {
          "base_uri": "https://localhost:8080/"
        }
      },
      "id": "t_xtg_CGuUtJ",
      "execution_count": 39,
      "outputs": [
        {
          "output_type": "stream",
          "name": "stdout",
          "text": [
            "['AcquisitionDate', 'AcquisitionNumber', 'AcquisitionTime', 'BitsAllocated', 'BitsStored', 'Columns', 'ContentDate', 'ContentTime', 'ContrastBolusAgent', 'DeviceSerialNumber', 'Exposure', 'FilterType', 'FrameOfReferenceUID', 'GantryDetectorTilt', 'HighBit', 'ImageOrientationPatient', 'ImagePositionPatient', 'ImageType', 'InstanceCreationDate', 'InstanceCreationTime', 'InstanceNumber', 'InstitutionName', 'KVP', 'Manufacturer', 'ManufacturerModelName', 'Modality', 'NameOfPhysiciansReadingStudy', 'OperatorsName', 'PatientName', 'PatientOrientation', 'PatientPosition', 'PerformingPhysicianName', 'PhotometricInterpretation', 'PixelData', 'PixelRepresentation', 'PixelSpacing', 'ProtocolName', 'ReferringPhysicianName', 'RescaleIntercept', 'RescaleSlope', 'Rows', 'SOPClassUID', 'SOPInstanceUID', 'SamplesPerPixel', 'SeriesDate', 'SeriesInstanceUID', 'SeriesNumber', 'SeriesTime', 'SliceLocation', 'SliceThickness', 'SpecificCharacterSet', 'StationName', 'StudyDate', 'StudyDescription', 'StudyInstanceUID', 'StudyTime', 'WindowCenter', 'WindowWidth', 'XRayTubeCurrent']\n"
          ]
        }
      ]
    },
    {
      "cell_type": "code",
      "source": [
        "# 特定の keyword も抽出可能\n",
        "print(d.dir('Study'))"
      ],
      "metadata": {
        "id": "XebS_xEXupXh",
        "outputId": "efa16b2e-d4ad-4d9a-ab33-f1c0413543ab",
        "colab": {
          "base_uri": "https://localhost:8080/"
        }
      },
      "id": "XebS_xEXupXh",
      "execution_count": 40,
      "outputs": [
        {
          "output_type": "stream",
          "name": "stdout",
          "text": [
            "['NameOfPhysiciansReadingStudy', 'StudyDate', 'StudyDescription', 'StudyInstanceUID', 'StudyTime']\n"
          ]
        }
      ]
    },
    {
      "cell_type": "markdown",
      "id": "GTmRwfri_4WS",
      "metadata": {
        "id": "GTmRwfri_4WS"
      },
      "source": [
        "## DICOM 画像の表示"
      ]
    },
    {
      "cell_type": "code",
      "execution_count": 41,
      "id": "pVIcRJrM_3gv",
      "metadata": {
        "colab": {
          "base_uri": "https://localhost:8080/",
          "height": 384
        },
        "id": "pVIcRJrM_3gv",
        "outputId": "18ff81e3-4c0d-4542-d9cc-c8f4c6d18d08"
      },
      "outputs": [
        {
          "output_type": "stream",
          "name": "stdout",
          "text": [
            "(512, 512)\n"
          ]
        },
        {
          "output_type": "display_data",
          "data": {
            "text/plain": [
              "<Figure size 600x400 with 1 Axes>"
            ],
            "image/png": "[encoded data removed]"
          },
          "metadata": {
            "needs_background": "light"
          }
        }
      ],
      "source": [
        "# 画像データを変数に代入\n",
        "img = d.pixel_array\n",
        "\n",
        "# 画像サイズの確認\n",
        "print(img.shape)\n",
        "\n",
        "# 表示サイズを大きくしています\n",
        "fig = plt.figure(dpi=100)\n",
        "\n",
        "# 画像表示\n",
        "plt.imshow(img, cmap='gray')\n",
        "\n",
        "# ローカルに保存する場合は以下の一行のコメントを外す\n",
        "# plt.savefig('data.png')\n",
        "plt.show()"
      ]
    },
    {
      "cell_type": "markdown",
      "id": "vR0luyjTu7iT",
      "metadata": {
        "id": "vR0luyjTu7iT"
      },
      "source": [
        "うまく表示されたでしょうか．どこの部位の画像で，モダリティは何でしょうか？\n",
        "\n",
        "他の DICOM 画像でも試してみましょう"
      ]
    }
  ],
  "metadata": {
    "colab": {
      "provenance": [],
      "include_colab_link": true
    },
    "kernelspec": {
      "display_name": "Python 3 (ipykernel)",
      "language": "python",
      "name": "python3"
    },
    "language_info": {
      "codemirror_mode": {
        "name": "ipython",
        "version": 3
      },
      "file_extension": ".py",
      "mimetype": "text/x-python",
      "name": "python",
      "nbconvert_exporter": "python",
      "pygments_lexer": "ipython3",
      "version": "3.10.10"
    }
  },
  "nbformat": 4,
  "nbformat_minor": 5
}