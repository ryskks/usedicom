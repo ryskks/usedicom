{
  "cells": [
    {
      "cell_type": "markdown",
      "metadata": {
        "id": "view-in-github",
        "colab_type": "text"
      },
      "source": [
        "<a href=\"https://colab.research.google.com/github/ryskks/usedicom/blob/main/readDICOM.ipynb\" target=\"_parent\"><img src=\"https://colab.research.google.com/assets/colab-badge.svg\" alt=\"Open In Colab\"/></a>"
      ]
    },
    {
      "cell_type": "markdown",
      "id": "66fa55ce",
      "metadata": {
        "id": "66fa55ce"
      },
      "source": [
        "# Python で DICOM 画像を読み込む"
      ]
    },
    {
      "cell_type": "markdown",
      "id": "a52a2192",
      "metadata": {
        "id": "a52a2192"
      },
      "source": [
        "## DICOM メタデータの表示"
      ]
    },
    {
      "cell_type": "code",
      "execution_count": 8,
      "id": "Q-tC5m7wrNiz",
      "metadata": {
        "colab": {
          "base_uri": "https://localhost:8080/"
        },
        "id": "Q-tC5m7wrNiz",
        "outputId": "2db3dfa1-1064-4e67-fa13-b96a8fb3234f"
      },
      "outputs": [
        {
          "output_type": "stream",
          "name": "stdout",
          "text": [
            "Drive already mounted at /content/drive; to attempt to forcibly remount, call drive.mount(\"/content/drive\", force_remount=True).\n"
          ]
        }
      ],
      "source": [
        "# Google Drive のマウント\n",
        "from google.colab import drive\n",
        "drive.mount('/content/drive')"
      ]
    },
    {
      "cell_type": "code",
      "execution_count": 42,
      "id": "K9l8kFyosiQm",
      "metadata": {
        "colab": {
          "base_uri": "https://localhost:8080/"
        },
        "id": "K9l8kFyosiQm",
        "outputId": "dceb56a7-6a06-4df9-d973-efa9d38dd1b9"
      },
      "outputs": [
        {
          "output_type": "stream",
          "name": "stdout",
          "text": [
            "Looking in indexes: https://pypi.org/simple, https://us-python.pkg.dev/colab-wheels/public/simple/\n",
            "Requirement already satisfied: pydicom in /usr/local/lib/python3.8/dist-packages (2.3.1)\n",
            "Looking in indexes: https://pypi.org/simple, https://us-python.pkg.dev/colab-wheels/public/simple/\n",
            "Requirement already satisfied: pylibjpeg in /usr/local/lib/python3.8/dist-packages (1.4.0)\n",
            "Requirement already satisfied: numpy in /usr/local/lib/python3.8/dist-packages (from pylibjpeg) (1.24.2)\n",
            "Looking in indexes: https://pypi.org/simple, https://us-python.pkg.dev/colab-wheels/public/simple/\n",
            "Requirement already satisfied: gdcm in /usr/local/lib/python3.8/dist-packages (1.1)\n",
            "Looking in indexes: https://pypi.org/simple, https://us-python.pkg.dev/colab-wheels/public/simple/\n",
            "Requirement already satisfied: numpy in /usr/local/lib/python3.8/dist-packages (1.24.2)\n",
            "Looking in indexes: https://pypi.org/simple, https://us-python.pkg.dev/colab-wheels/public/simple/\n",
            "Collecting pylibjpeg-rle\n",
            "  Downloading pylibjpeg_rle-1.3.0-cp38-cp38-manylinux_2_17_x86_64.manylinux2014_x86_64.whl (969 kB)\n",
            "\u001b[2K     \u001b[90m━━━━━━━━━━━━━━━━━━━━━━━━━━━━━━━━━━━━━━\u001b[0m \u001b[32m969.1/969.1 KB\u001b[0m \u001b[31m20.0 MB/s\u001b[0m eta \u001b[36m0:00:00\u001b[0m\n",
            "\u001b[?25hRequirement already satisfied: numpy>=1.20 in /usr/local/lib/python3.8/dist-packages (from pylibjpeg-rle) (1.24.2)\n",
            "Installing collected packages: pylibjpeg-rle\n",
            "Successfully installed pylibjpeg-rle-1.3.0\n"
          ]
        }
      ],
      "source": [
        "# 必要なパッケージのインストール\n",
        "!pip install pydicom\n",
        "!pip install pylibjpeg\n",
        "!pip install gdcm\n",
        "!pip install numpy\n",
        "!pip install pylibjpeg-rle"
      ]
    },
    {
      "cell_type": "code",
      "execution_count": 43,
      "id": "98c33f27",
      "metadata": {
        "id": "98c33f27"
      },
      "outputs": [],
      "source": [
        "# 必要モジュールの導入\n",
        "%matplotlib inline\n",
        " \n",
        "import matplotlib.pyplot as plt\n",
        "import pydicom\n",
        "import numpy as np\n",
        "import pylibjpeg"
      ]
    },
    {
      "cell_type": "code",
      "execution_count": 44,
      "id": "7ce14158",
      "metadata": {
        "colab": {
          "base_uri": "https://localhost:8080/"
        },
        "id": "7ce14158",
        "outputId": "68f7bcbc-5cc6-44d8-896f-bca5634edddd"
      },
      "outputs": [
        {
          "output_type": "stream",
          "name": "stdout",
          "text": [
            "Dataset.file_meta -------------------------------\n",
            "(0002, 0000) File Meta Information Group Length  UL: 174\n",
            "(0002, 0001) File Meta Information Version       OB: b'\\x00\\x01'\n",
            "(0002, 0002) Media Storage SOP Class UID         UI: CT Image Storage\n",
            "(0002, 0003) Media Storage SOP Instance UID      UI: 1.2.392.200036.8120.100.20101001.1175630.2001002001\n",
            "(0002, 0010) Transfer Syntax UID                 UI: JPEG Lossless, Non-Hierarchical, First-Order Prediction (Process 14 [Selection Value 1])\n",
            "(0002, 0012) Implementation Class UID            UI: 1.2.826.0.1.3680043.2.1545.1\n",
            "-------------------------------------------------\n",
            "(0008, 0005) Specific Character Set              CS: ['', 'ISO 2022 IR 87']\n",
            "(0008, 0008) Image Type                          CS: ['ORIGINAL', 'PRIMARY', 'AXIAL']\n",
            "(0008, 0016) SOP Class UID                       UI: CT Image Storage\n",
            "(0008, 0018) SOP Instance UID                    UI: 1.2.392.200036.8120.100.20101001.1175630.2001002001\n",
            "(0008, 0020) Study Date                          DA: '20101001'\n",
            "(0008, 0023) Content Date                        DA: '20101001'\n",
            "(0008, 0030) Study Time                          TM: '175630.000'\n",
            "(0008, 0033) Content Time                        TM: '175708.566'\n",
            "(0008, 0050) Accession Number                    SH: 'CT12345678'\n",
            "(0008, 0060) Modality                            CS: 'CT'\n",
            "(0008, 0070) Manufacturer                        LO: 'JIRA'\n",
            "(0008, 0080) Institution Name                    LO: 'JIRA HOSPITAL'\n",
            "(0008, 0090) Referring Physician's Name          PN: 'SHIROGANE^HIDEO=白金^英雄=しろがね^ひでお'\n",
            "(0008, 1090) Manufacturer's Model Name           LO: 'CT0001'\n",
            "(0010, 0010) Patient's Name                      PN: 'OCHANOMIZU^JIRO=御茶ノ水^次郎=おちゃのみず^じろう'\n",
            "(0010, 0020) Patient ID                          LO: '999999-006'\n",
            "(0010, 0030) Patient's Birth Date                DA: '19700101'\n",
            "(0010, 0040) Patient's Sex                       CS: 'M'\n",
            "(0018, 0022) Scan Options                        CS: 'HELICAL_CT'\n",
            "(0018, 0050) Slice Thickness                     DS: '7.0'\n",
            "(0018, 0060) KVP                                 DS: '120.0'\n",
            "(0018, 0090) Data Collection Diameter            DS: '320.0'\n",
            "(0018, 1100) Reconstruction Diameter             DS: '320.0'\n",
            "(0018, 1120) Gantry/Detector Tilt                DS: '0.0'\n",
            "(0018, 1130) Table Height                        DS: '0.0'\n",
            "(0018, 1150) Exposure Time                       IS: '500'\n",
            "(0018, 1151) X-Ray Tube Current                  IS: '440'\n",
            "(0018, 1152) Exposure                            IS: '220'\n",
            "(0018, 1210) Convolution Kernel                  SH: 'FC03'\n",
            "(0018, 5100) Patient Position                    CS: 'FFS'\n",
            "(0020, 000d) Study Instance UID                  UI: 1.2.392.200036.8120.100.20101001.1175630.2001\n",
            "(0020, 000e) Series Instance UID                 UI: 1.2.392.200036.8120.100.20101001.1175630.2001002\n",
            "(0020, 0010) Study ID                            SH: '1'\n",
            "(0020, 0011) Series Number                       IS: '2'\n",
            "(0020, 0012) Acquisition Number                  IS: '2'\n",
            "(0020, 0013) Instance Number                     IS: '1'\n",
            "(0020, 0032) Image Position (Patient)            DS: [-159.6875, -159.6875, -97.0000]\n",
            "(0020, 0037) Image Orientation (Patient)         DS: [1.00000, 0.00000, 0.00000, 0.00000, 1.00000, 0.00000]\n",
            "(0020, 0052) Frame of Reference UID              UI: 1.2.392.200036.8120.100.201010.101175630.2001.11\n",
            "(0020, 1040) Position Reference Indicator        LO: ''\n",
            "(0020, 1041) Slice Location                      DS: '0.0'\n",
            "(0028, 0002) Samples per Pixel                   US: 1\n",
            "(0028, 0004) Photometric Interpretation          CS: 'MONOCHROME2'\n",
            "(0028, 0010) Rows                                US: 512\n",
            "(0028, 0011) Columns                             US: 512\n",
            "(0028, 0030) Pixel Spacing                       DS: [0.625, 0.625]\n",
            "(0028, 0100) Bits Allocated                      US: 16\n",
            "(0028, 0101) Bits Stored                         US: 16\n",
            "(0028, 0102) High Bit                            US: 15\n",
            "(0028, 0103) Pixel Representation                US: 1\n",
            "(0028, 1050) Window Center                       DS: '0.0'\n",
            "(0028, 1051) Window Width                        DS: '350.0'\n",
            "(0028, 1052) Rescale Intercept                   DS: '0.0'\n",
            "(0028, 1053) Rescale Slope                       DS: '1.0'\n",
            "(7fe0, 0010) Pixel Data                          OB: Array of 211718 elements\n"
          ]
        }
      ],
      "source": [
        "# DICOM ファイルの読み込み\n",
        "DIR = \"/content/drive/MyDrive/Colab Notebooks/DICOM/CT_JPG_IR87a.dcm\"\n",
        "d = pydicom.read_file(DIR)\n",
        "\n",
        "\n",
        "# 読み込んだ変数の表示\n",
        "print(d)"
      ]
    },
    {
      "cell_type": "markdown",
      "id": "sQh-x2p1vNy_",
      "metadata": {
        "id": "sQh-x2p1vNy_"
      },
      "source": [
        "テキストの一覧が表示されれば成功\n",
        " - モダリティは何か\n",
        " - 疑似患者の年齢は\n",
        " - 管電圧はどれくらいだろうか\n",
        "などを調べてみよう．"
      ]
    },
    {
      "cell_type": "markdown",
      "id": "e1851a21",
      "metadata": {
        "id": "e1851a21"
      },
      "source": [
        "## DICOM 画像の表示"
      ]
    },
    {
      "cell_type": "code",
      "execution_count": 50,
      "id": "a34bf481",
      "metadata": {
        "id": "a34bf481",
        "outputId": "010eec8c-1106-41c8-831d-1e858696fd5d",
        "colab": {
          "base_uri": "https://localhost:8080/",
          "height": 402
        }
      },
      "outputs": [
        {
          "output_type": "stream",
          "name": "stdout",
          "text": [
            "wc= 0\n",
            "ww= 350\n",
            "max= 175.0\n",
            "min= -175.0\n"
          ]
        },
        {
          "output_type": "error",
          "ename": "TypeError",
          "evalue": "ignored",
          "traceback": [
            "\u001b[0;31m---------------------------------------------------------------------------\u001b[0m",
            "\u001b[0;31mTypeError\u001b[0m                                 Traceback (most recent call last)",
            "\u001b[0;32m<ipython-input-50-c0f698a7f7ca>\u001b[0m in \u001b[0;36m<module>\u001b[0;34m\u001b[0m\n\u001b[1;32m     12\u001b[0m \u001b[0;31m#ピクセルを取り出す（ndarrayとして扱っています）\u001b[0m\u001b[0;34m\u001b[0m\u001b[0;34m\u001b[0m\u001b[0;34m\u001b[0m\u001b[0m\n\u001b[1;32m     13\u001b[0m \u001b[0;31m# With the pylibjpeg-libjpeg plugin\u001b[0m\u001b[0;34m\u001b[0m\u001b[0;34m\u001b[0m\u001b[0;34m\u001b[0m\u001b[0m\n\u001b[0;32m---> 14\u001b[0;31m \u001b[0mds\u001b[0m \u001b[0;34m=\u001b[0m \u001b[0mdcmread\u001b[0m\u001b[0;34m(\u001b[0m\u001b[0mget_testdata_file\u001b[0m\u001b[0;34m(\u001b[0m\u001b[0;34m\"DIR\"\u001b[0m\u001b[0;34m)\u001b[0m\u001b[0;34m)\u001b[0m\u001b[0;34m\u001b[0m\u001b[0;34m\u001b[0m\u001b[0m\n\u001b[0m\u001b[1;32m     15\u001b[0m \u001b[0mjpg_arr\u001b[0m \u001b[0;34m=\u001b[0m \u001b[0mds\u001b[0m\u001b[0;34m.\u001b[0m\u001b[0mpixel_array\u001b[0m\u001b[0;34m\u001b[0m\u001b[0;34m\u001b[0m\u001b[0m\n",
            "\u001b[0;32m/usr/local/lib/python3.8/dist-packages/pydicom/filereader.py\u001b[0m in \u001b[0;36mdcmread\u001b[0;34m(fp, defer_size, stop_before_pixels, force, specific_tags)\u001b[0m\n\u001b[1;32m    993\u001b[0m         \u001b[0mfp\u001b[0m \u001b[0;34m=\u001b[0m \u001b[0mopen\u001b[0m\u001b[0;34m(\u001b[0m\u001b[0mfp\u001b[0m\u001b[0;34m,\u001b[0m \u001b[0;34m'rb'\u001b[0m\u001b[0;34m)\u001b[0m\u001b[0;34m\u001b[0m\u001b[0;34m\u001b[0m\u001b[0m\n\u001b[1;32m    994\u001b[0m     \u001b[0;32melif\u001b[0m \u001b[0mfp\u001b[0m \u001b[0;32mis\u001b[0m \u001b[0;32mNone\u001b[0m \u001b[0;32mor\u001b[0m \u001b[0;32mnot\u001b[0m \u001b[0mhasattr\u001b[0m\u001b[0;34m(\u001b[0m\u001b[0mfp\u001b[0m\u001b[0;34m,\u001b[0m \u001b[0;34m\"read\"\u001b[0m\u001b[0;34m)\u001b[0m \u001b[0;32mor\u001b[0m \u001b[0;32mnot\u001b[0m \u001b[0mhasattr\u001b[0m\u001b[0;34m(\u001b[0m\u001b[0mfp\u001b[0m\u001b[0;34m,\u001b[0m \u001b[0;34m\"seek\"\u001b[0m\u001b[0;34m)\u001b[0m\u001b[0;34m:\u001b[0m\u001b[0;34m\u001b[0m\u001b[0;34m\u001b[0m\u001b[0m\n\u001b[0;32m--> 995\u001b[0;31m         raise TypeError(\"dcmread: Expected a file path or a file-like, \"\n\u001b[0m\u001b[1;32m    996\u001b[0m                         \"but got \" + type(fp).__name__)\n\u001b[1;32m    997\u001b[0m \u001b[0;34m\u001b[0m\u001b[0m\n",
            "\u001b[0;31mTypeError\u001b[0m: dcmread: Expected a file path or a file-like, but got NoneType"
          ]
        }
      ],
      "source": [
        "wc = d.WindowCenter     #ウィンドウセンターの取得\n",
        "ww = d.WindowWidth      #ウィンドウ幅の取得\n",
        "print(\"wc=\", wc)\n",
        "print(\"ww=\", ww)\n",
        "\n",
        "max = wc + ww / 2         #表示最大画素値\n",
        "min = wc - ww / 2         #表示最小画素値\n",
        "print(\"max=\", max)\n",
        "print(\"min=\", min)\n",
        "from pydicom import dcmread\n",
        "from pydicom.data import get_testdata_file\n",
        "#ピクセルを取り出す（ndarrayとして扱っています）\n",
        "# With the pylibjpeg-libjpeg plugin\n",
        "ds = dcmread(get_testdata_file(\"DIR\"))\n",
        "jpg_arr = ds.pixel_array\n"
      ]
    }
  ],
  "metadata": {
    "colab": {
      "provenance": [],
      "include_colab_link": true
    },
    "kernelspec": {
      "display_name": "Python 3 (ipykernel)",
      "language": "python",
      "name": "python3"
    },
    "language_info": {
      "codemirror_mode": {
        "name": "ipython",
        "version": 3
      },
      "file_extension": ".py",
      "mimetype": "text/x-python",
      "name": "python",
      "nbconvert_exporter": "python",
      "pygments_lexer": "ipython3",
      "version": "3.10.9"
    }
  },
  "nbformat": 4,
  "nbformat_minor": 5
}