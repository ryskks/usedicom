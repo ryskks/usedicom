{
  "cells": [
    {
      "cell_type": "markdown",
      "metadata": {
        "id": "view-in-github",
        "colab_type": "text"
      },
      "source": [
        "<a href=\"https://colab.research.google.com/github/ryskks/usedicom/blob/main/readDICOM.ipynb\" target=\"_parent\"><img src=\"https://colab.research.google.com/assets/colab-badge.svg\" alt=\"Open In Colab\"/></a>"
      ]
    },
    {
      "cell_type": "markdown",
      "id": "66fa55ce",
      "metadata": {
        "id": "66fa55ce"
      },
      "source": [
        "# Python で DICOM 画像を読み込む"
      ]
    },
    {
      "cell_type": "markdown",
      "id": "a52a2192",
      "metadata": {
        "id": "a52a2192"
      },
      "source": [
        "## DICOM メタデータの表示"
      ]
    },
    {
      "cell_type": "code",
      "execution_count": 70,
      "id": "Q-tC5m7wrNiz",
      "metadata": {
        "colab": {
          "base_uri": "https://localhost:8080/"
        },
        "id": "Q-tC5m7wrNiz",
        "outputId": "88bd456f-897b-4797-d399-14d96b7ea461"
      },
      "outputs": [
        {
          "output_type": "stream",
          "name": "stdout",
          "text": [
            "Drive already mounted at /content/drive; to attempt to forcibly remount, call drive.mount(\"/content/drive\", force_remount=True).\n"
          ]
        }
      ],
      "source": [
        "# Google Drive のマウント\n",
        "from google.colab import drive\n",
        "drive.mount('/content/drive')"
      ]
    },
    {
      "cell_type": "code",
      "execution_count": 71,
      "id": "K9l8kFyosiQm",
      "metadata": {
        "colab": {
          "base_uri": "https://localhost:8080/"
        },
        "id": "K9l8kFyosiQm",
        "outputId": "e739651a-ec7b-4e22-ecb9-12e2f3ae414c"
      },
      "outputs": [
        {
          "output_type": "stream",
          "name": "stdout",
          "text": [
            "Looking in indexes: https://pypi.org/simple, https://us-python.pkg.dev/colab-wheels/public/simple/\n",
            "Requirement already satisfied: pydicom in /usr/local/lib/python3.8/dist-packages (2.3.1)\n"
          ]
        }
      ],
      "source": [
        "# 必要なパッケージのインストール\n",
        "!pip install pydicom"
      ]
    },
    {
      "cell_type": "code",
      "execution_count": 72,
      "id": "98c33f27",
      "metadata": {
        "id": "98c33f27"
      },
      "outputs": [],
      "source": [
        "# 必要モジュールの導入\n",
        "%matplotlib inline\n",
        "import matplotlib.pyplot as plt\n",
        "import pydicom"
      ]
    },
    {
      "cell_type": "code",
      "execution_count": 73,
      "id": "7ce14158",
      "metadata": {
        "colab": {
          "base_uri": "https://localhost:8080/"
        },
        "id": "7ce14158",
        "outputId": "5ae9e85d-94af-40d2-f4d5-2de751b60759"
      },
      "outputs": [
        {
          "output_type": "stream",
          "name": "stdout",
          "text": [
            "Dataset.file_meta -------------------------------\n",
            "(0002, 0000) File Meta Information Group Length  UL: 174\n",
            "(0002, 0001) File Meta Information Version       OB: b'\\x00\\x01'\n",
            "(0002, 0002) Media Storage SOP Class UID         UI: CT Image Storage\n",
            "(0002, 0003) Media Storage SOP Instance UID      UI: 1.2.392.200036.8120.100.20101001.1175630.2001002001\n",
            "(0002, 0010) Transfer Syntax UID                 UI: JPEG Lossless, Non-Hierarchical, First-Order Prediction (Process 14 [Selection Value 1])\n",
            "(0002, 0012) Implementation Class UID            UI: 1.2.826.0.1.3680043.2.1545.1\n",
            "-------------------------------------------------\n",
            "(0008, 0005) Specific Character Set              CS: ['', 'ISO 2022 IR 87']\n",
            "(0008, 0008) Image Type                          CS: ['ORIGINAL', 'PRIMARY', 'AXIAL']\n",
            "(0008, 0016) SOP Class UID                       UI: CT Image Storage\n",
            "(0008, 0018) SOP Instance UID                    UI: 1.2.392.200036.8120.100.20101001.1175630.2001002001\n",
            "(0008, 0020) Study Date                          DA: '20101001'\n",
            "(0008, 0023) Content Date                        DA: '20101001'\n",
            "(0008, 0030) Study Time                          TM: '175630.000'\n",
            "(0008, 0033) Content Time                        TM: '175708.566'\n",
            "(0008, 0050) Accession Number                    SH: 'CT12345678'\n",
            "(0008, 0060) Modality                            CS: 'CT'\n",
            "(0008, 0070) Manufacturer                        LO: 'JIRA'\n",
            "(0008, 0080) Institution Name                    LO: 'JIRA HOSPITAL'\n",
            "(0008, 0090) Referring Physician's Name          PN: 'SHIROGANE^HIDEO=白金^英雄=しろがね^ひでお'\n",
            "(0008, 1090) Manufacturer's Model Name           LO: 'CT0001'\n",
            "(0010, 0010) Patient's Name                      PN: 'OCHANOMIZU^JIRO=御茶ノ水^次郎=おちゃのみず^じろう'\n",
            "(0010, 0020) Patient ID                          LO: '999999-006'\n",
            "(0010, 0030) Patient's Birth Date                DA: '19700101'\n",
            "(0010, 0040) Patient's Sex                       CS: 'M'\n",
            "(0018, 0022) Scan Options                        CS: 'HELICAL_CT'\n",
            "(0018, 0050) Slice Thickness                     DS: '7.0'\n",
            "(0018, 0060) KVP                                 DS: '120.0'\n",
            "(0018, 0090) Data Collection Diameter            DS: '320.0'\n",
            "(0018, 1100) Reconstruction Diameter             DS: '320.0'\n",
            "(0018, 1120) Gantry/Detector Tilt                DS: '0.0'\n",
            "(0018, 1130) Table Height                        DS: '0.0'\n",
            "(0018, 1150) Exposure Time                       IS: '500'\n",
            "(0018, 1151) X-Ray Tube Current                  IS: '440'\n",
            "(0018, 1152) Exposure                            IS: '220'\n",
            "(0018, 1210) Convolution Kernel                  SH: 'FC03'\n",
            "(0018, 5100) Patient Position                    CS: 'FFS'\n",
            "(0020, 000d) Study Instance UID                  UI: 1.2.392.200036.8120.100.20101001.1175630.2001\n",
            "(0020, 000e) Series Instance UID                 UI: 1.2.392.200036.8120.100.20101001.1175630.2001002\n",
            "(0020, 0010) Study ID                            SH: '1'\n",
            "(0020, 0011) Series Number                       IS: '2'\n",
            "(0020, 0012) Acquisition Number                  IS: '2'\n",
            "(0020, 0013) Instance Number                     IS: '1'\n",
            "(0020, 0032) Image Position (Patient)            DS: [-159.6875, -159.6875, -97.0000]\n",
            "(0020, 0037) Image Orientation (Patient)         DS: [1.00000, 0.00000, 0.00000, 0.00000, 1.00000, 0.00000]\n",
            "(0020, 0052) Frame of Reference UID              UI: 1.2.392.200036.8120.100.201010.101175630.2001.11\n",
            "(0020, 1040) Position Reference Indicator        LO: ''\n",
            "(0020, 1041) Slice Location                      DS: '0.0'\n",
            "(0028, 0002) Samples per Pixel                   US: 1\n",
            "(0028, 0004) Photometric Interpretation          CS: 'MONOCHROME2'\n",
            "(0028, 0010) Rows                                US: 512\n",
            "(0028, 0011) Columns                             US: 512\n",
            "(0028, 0030) Pixel Spacing                       DS: [0.625, 0.625]\n",
            "(0028, 0100) Bits Allocated                      US: 16\n",
            "(0028, 0101) Bits Stored                         US: 16\n",
            "(0028, 0102) High Bit                            US: 15\n",
            "(0028, 0103) Pixel Representation                US: 1\n",
            "(0028, 1050) Window Center                       DS: '0.0'\n",
            "(0028, 1051) Window Width                        DS: '350.0'\n",
            "(0028, 1052) Rescale Intercept                   DS: '0.0'\n",
            "(0028, 1053) Rescale Slope                       DS: '1.0'\n",
            "(7fe0, 0010) Pixel Data                          OB: Array of 211718 elements\n"
          ]
        }
      ],
      "source": [
        "# DICOM ファイルの読み込み\n",
        "DIR = \"/content/drive/MyDrive/Colab Notebooks/DICOM/CT_JPG_IR87a.dcm\"\n",
        "d = pydicom.read_file(DIR)\n",
        "# 読み込んだ変数の表示\n",
        "print(d)"
      ]
    },
    {
      "cell_type": "markdown",
      "id": "sQh-x2p1vNy_",
      "metadata": {
        "id": "sQh-x2p1vNy_"
      },
      "source": [
        "テキストの一覧が表示されれば成功\n",
        " - モダリティは何か\n",
        " - 疑似患者の年齢は\n",
        " - 管電圧はどれくらいだろうか\n",
        "などを調べてみよう．"
      ]
    }
  ],
  "metadata": {
    "colab": {
      "provenance": [],
      "include_colab_link": true
    },
    "kernelspec": {
      "display_name": "Python 3 (ipykernel)",
      "language": "python",
      "name": "python3"
    },
    "language_info": {
      "codemirror_mode": {
        "name": "ipython",
        "version": 3
      },
      "file_extension": ".py",
      "mimetype": "text/x-python",
      "name": "python",
      "nbconvert_exporter": "python",
      "pygments_lexer": "ipython3",
      "version": "3.10.9"
    }
  },
  "nbformat": 4,
  "nbformat_minor": 5
}