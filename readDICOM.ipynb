{
  "cells": [
    {
      "cell_type": "markdown",
      "metadata": {
        "id": "view-in-github",
        "colab_type": "text"
      },
      "source": [
        "<a href=\"https://colab.research.google.com/github/ryskks/usedicom/blob/main/readDICOM.ipynb\" target=\"_parent\"><img src=\"https://colab.research.google.com/assets/colab-badge.svg\" alt=\"Open In Colab\"/></a>"
      ]
    },
    {
      "cell_type": "markdown",
      "id": "66fa55ce",
      "metadata": {
        "id": "66fa55ce"
      },
      "source": [
        "# Python で DICOM 画像を読み込む"
      ]
    },
    {
      "cell_type": "code",
      "source": [
        "from google.colab import drive\n",
        "drive.mount('/content/drive')"
      ],
      "metadata": {
        "id": "Q-tC5m7wrNiz",
        "colab": {
          "base_uri": "https://localhost:8080/"
        },
        "outputId": "2675a909-97bf-4f4e-e7e8-600150cde950"
      },
      "id": "Q-tC5m7wrNiz",
      "execution_count": 4,
      "outputs": [
        {
          "output_type": "stream",
          "name": "stdout",
          "text": [
            "Drive already mounted at /content/drive; to attempt to forcibly remount, call drive.mount(\"/content/drive\", force_remount=True).\n"
          ]
        }
      ]
    },
    {
      "cell_type": "code",
      "source": [
        "!pip install pydicom"
      ],
      "metadata": {
        "colab": {
          "base_uri": "https://localhost:8080/"
        },
        "id": "K9l8kFyosiQm",
        "outputId": "a428325b-664f-4c1d-c214-9e8c4d47ba8b"
      },
      "id": "K9l8kFyosiQm",
      "execution_count": 5,
      "outputs": [
        {
          "output_type": "stream",
          "name": "stdout",
          "text": [
            "Looking in indexes: https://pypi.org/simple, https://us-python.pkg.dev/colab-wheels/public/simple/\n",
            "Collecting pydicom\n",
            "  Downloading pydicom-2.3.1-py3-none-any.whl (2.0 MB)\n",
            "\u001b[2K     \u001b[90m━━━━━━━━━━━━━━━━━━━━━━━━━━━━━━━━━━━━━━━━\u001b[0m \u001b[32m2.0/2.0 MB\u001b[0m \u001b[31m29.4 MB/s\u001b[0m eta \u001b[36m0:00:00\u001b[0m\n",
            "\u001b[?25hInstalling collected packages: pydicom\n",
            "Successfully installed pydicom-2.3.1\n"
          ]
        }
      ]
    },
    {
      "cell_type": "code",
      "execution_count": 6,
      "id": "98c33f27",
      "metadata": {
        "id": "98c33f27"
      },
      "outputs": [],
      "source": [
        "# 必要モジュールの導入\n",
        "import pydicom"
      ]
    },
    {
      "cell_type": "code",
      "execution_count": 7,
      "id": "7ce14158",
      "metadata": {
        "id": "7ce14158",
        "outputId": "01163b33-9792-4802-d584-079249fcfb2d",
        "colab": {
          "base_uri": "https://localhost:8080/"
        }
      },
      "outputs": [
        {
          "output_type": "stream",
          "name": "stdout",
          "text": [
            "Dataset.file_meta -------------------------------\n",
            "(0002, 0000) File Meta Information Group Length  UL: 174\n",
            "(0002, 0001) File Meta Information Version       OB: b'\\x00\\x01'\n",
            "(0002, 0002) Media Storage SOP Class UID         UI: CT Image Storage\n",
            "(0002, 0003) Media Storage SOP Instance UID      UI: 1.2.392.200036.8120.100.20101001.1175630.2001002001\n",
            "(0002, 0010) Transfer Syntax UID                 UI: JPEG Lossless, Non-Hierarchical, First-Order Prediction (Process 14 [Selection Value 1])\n",
            "(0002, 0012) Implementation Class UID            UI: 1.2.826.0.1.3680043.2.1545.1\n",
            "-------------------------------------------------\n",
            "(0008, 0005) Specific Character Set              CS: ['', 'ISO 2022 IR 87']\n",
            "(0008, 0008) Image Type                          CS: ['ORIGINAL', 'PRIMARY', 'AXIAL']\n",
            "(0008, 0016) SOP Class UID                       UI: CT Image Storage\n",
            "(0008, 0018) SOP Instance UID                    UI: 1.2.392.200036.8120.100.20101001.1175630.2001002001\n",
            "(0008, 0020) Study Date                          DA: '20101001'\n",
            "(0008, 0023) Content Date                        DA: '20101001'\n",
            "(0008, 0030) Study Time                          TM: '175630.000'\n",
            "(0008, 0033) Content Time                        TM: '175708.566'\n",
            "(0008, 0050) Accession Number                    SH: 'CT12345678'\n",
            "(0008, 0060) Modality                            CS: 'CT'\n",
            "(0008, 0070) Manufacturer                        LO: 'JIRA'\n",
            "(0008, 0080) Institution Name                    LO: 'JIRA HOSPITAL'\n",
            "(0008, 0090) Referring Physician's Name          PN: 'SHIROGANE^HIDEO=白金^英雄=しろがね^ひでお'\n",
            "(0008, 1090) Manufacturer's Model Name           LO: 'CT0001'\n",
            "(0010, 0010) Patient's Name                      PN: 'OCHANOMIZU^JIRO=御茶ノ水^次郎=おちゃのみず^じろう'\n",
            "(0010, 0020) Patient ID                          LO: '999999-006'\n",
            "(0010, 0030) Patient's Birth Date                DA: '19700101'\n",
            "(0010, 0040) Patient's Sex                       CS: 'M'\n",
            "(0018, 0022) Scan Options                        CS: 'HELICAL_CT'\n",
            "(0018, 0050) Slice Thickness                     DS: '7.0'\n",
            "(0018, 0060) KVP                                 DS: '120.0'\n",
            "(0018, 0090) Data Collection Diameter            DS: '320.0'\n",
            "(0018, 1100) Reconstruction Diameter             DS: '320.0'\n",
            "(0018, 1120) Gantry/Detector Tilt                DS: '0.0'\n",
            "(0018, 1130) Table Height                        DS: '0.0'\n",
            "(0018, 1150) Exposure Time                       IS: '500'\n",
            "(0018, 1151) X-Ray Tube Current                  IS: '440'\n",
            "(0018, 1152) Exposure                            IS: '220'\n",
            "(0018, 1210) Convolution Kernel                  SH: 'FC03'\n",
            "(0018, 5100) Patient Position                    CS: 'FFS'\n",
            "(0020, 000d) Study Instance UID                  UI: 1.2.392.200036.8120.100.20101001.1175630.2001\n",
            "(0020, 000e) Series Instance UID                 UI: 1.2.392.200036.8120.100.20101001.1175630.2001002\n",
            "(0020, 0010) Study ID                            SH: '1'\n",
            "(0020, 0011) Series Number                       IS: '2'\n",
            "(0020, 0012) Acquisition Number                  IS: '2'\n",
            "(0020, 0013) Instance Number                     IS: '1'\n",
            "(0020, 0032) Image Position (Patient)            DS: [-159.6875, -159.6875, -97.0000]\n",
            "(0020, 0037) Image Orientation (Patient)         DS: [1.00000, 0.00000, 0.00000, 0.00000, 1.00000, 0.00000]\n",
            "(0020, 0052) Frame of Reference UID              UI: 1.2.392.200036.8120.100.201010.101175630.2001.11\n",
            "(0020, 1040) Position Reference Indicator        LO: ''\n",
            "(0020, 1041) Slice Location                      DS: '0.0'\n",
            "(0028, 0002) Samples per Pixel                   US: 1\n",
            "(0028, 0004) Photometric Interpretation          CS: 'MONOCHROME2'\n",
            "(0028, 0010) Rows                                US: 512\n",
            "(0028, 0011) Columns                             US: 512\n",
            "(0028, 0030) Pixel Spacing                       DS: [0.625, 0.625]\n",
            "(0028, 0100) Bits Allocated                      US: 16\n",
            "(0028, 0101) Bits Stored                         US: 16\n",
            "(0028, 0102) High Bit                            US: 15\n",
            "(0028, 0103) Pixel Representation                US: 1\n",
            "(0028, 1050) Window Center                       DS: '0.0'\n",
            "(0028, 1051) Window Width                        DS: '350.0'\n",
            "(0028, 1052) Rescale Intercept                   DS: '0.0'\n",
            "(0028, 1053) Rescale Slope                       DS: '1.0'\n",
            "(7fe0, 0010) Pixel Data                          OB: Array of 211718 elements\n"
          ]
        }
      ],
      "source": [
        "# DICOM ファイルの読み込み\n",
        "d = pydicom.read_file(\"/content/drive/MyDrive/Colab Notebooks/DICOM/CT_JPG_IR87a.dcm\")\n",
        "\n",
        "# 読み込んだ変数の表示\n",
        "print(d)"
      ]
    },
    {
      "cell_type": "code",
      "execution_count": null,
      "id": "f40300d8",
      "metadata": {
        "id": "f40300d8"
      },
      "outputs": [],
      "source": []
    }
  ],
  "metadata": {
    "kernelspec": {
      "display_name": "Python 3 (ipykernel)",
      "language": "python",
      "name": "python3"
    },
    "language_info": {
      "codemirror_mode": {
        "name": "ipython",
        "version": 3
      },
      "file_extension": ".py",
      "mimetype": "text/x-python",
      "name": "python",
      "nbconvert_exporter": "python",
      "pygments_lexer": "ipython3",
      "version": "3.10.9"
    },
    "colab": {
      "provenance": [],
      "include_colab_link": true
    }
  },
  "nbformat": 4,
  "nbformat_minor": 5
}