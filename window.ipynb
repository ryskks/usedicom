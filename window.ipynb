{
 "cells": [
  {
   "cell_type": "markdown",
   "id": "2e4aca4d",
   "metadata": {},
   "source": [
    "# Windoe Level / Width を調節する"
   ]
  },
  {
   "cell_type": "code",
   "execution_count": null,
   "id": "7cae3855",
   "metadata": {},
   "outputs": [],
   "source": [
    "# Google Drive のマウント\n",
    "from google.colab import drive\n",
    "drive.mount('/content/drive')"
   ]
  },
  {
   "cell_type": "code",
   "execution_count": null,
   "id": "20c3c7db",
   "metadata": {},
   "outputs": [],
   "source": [
    "# 必要なパッケージのインストール\n",
    "!pip install pydicom\n",
    "!pip install matplotlib\n",
    "!pip install -U python-gdcm\n",
    "!pip install pylibjpeg"
   ]
  },
  {
   "cell_type": "code",
   "execution_count": null,
   "id": "51f98cd6",
   "metadata": {},
   "outputs": [],
   "source": [
    "# 必要モジュールの導入\n",
    "%matplotlib inline\n",
    "import matplotlib.pyplot as plt\n",
    "import pydicom"
   ]
  },
  {
   "cell_type": "code",
   "execution_count": null,
   "id": "c53d65f8",
   "metadata": {},
   "outputs": [],
   "source": [
    "# DICOM ファイルの読み込み\n",
    "DIR = \"/content/drive/MyDrive/Colab Notebooks/DICOM/ct2.dcm\"\n",
    "d = pydicom.read_file(DIR)"
   ]
  },
  {
   "cell_type": "code",
   "execution_count": null,
   "id": "d297fcce",
   "metadata": {},
   "outputs": [],
   "source": [
    "# 画像データを変数に代入\n",
    "img = d.pixel_array\n",
    "\n",
    "# 画像表示\n",
    "plt.imshow(img, cmap='gray')\n",
    "plt.show()"
   ]
  },
  {
   "cell_type": "code",
   "execution_count": null,
   "id": "03392948",
   "metadata": {},
   "outputs": [],
   "source": [
    "wc = d.WindowCenter\n",
    "ww = d.WindowWidth\n",
    "img = d.pixel_array\n",
    "\n",
    "#ウィンドウ処理\n",
    "max = wc + ww /2\n",
    "min = wc - ww /2\n",
    "img = 255*(img - min) / (max - min)\n",
    "img[img > 255] = 255\n",
    "img[img < 0] = 0\n",
    "plt.imshow(img)\n",
    "plt.show()"
   ]
  }
 ],
 "metadata": {
  "kernelspec": {
   "display_name": "Python 3 (ipykernel)",
   "language": "python",
   "name": "python3"
  },
  "language_info": {
   "codemirror_mode": {
    "name": "ipython",
    "version": 3
   },
   "file_extension": ".py",
   "mimetype": "text/x-python",
   "name": "python",
   "nbconvert_exporter": "python",
   "pygments_lexer": "ipython3",
   "version": "3.10.9"
  }
 },
 "nbformat": 4,
 "nbformat_minor": 5
}
